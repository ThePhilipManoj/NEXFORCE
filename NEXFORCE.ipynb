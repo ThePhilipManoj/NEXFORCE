{
  "nbformat": 4,
  "nbformat_minor": 0,
  "metadata": {
    "colab": {
      "provenance": [],
      "authorship_tag": "ABX9TyOYnl5zjiSf+WJOJgKAhgHO",
      "include_colab_link": true
    },
    "kernelspec": {
      "name": "python3",
      "display_name": "Python 3"
    },
    "language_info": {
      "name": "python"
    }
  },
  "cells": [
    {
      "cell_type": "markdown",
      "metadata": {
        "id": "view-in-github",
        "colab_type": "text"
      },
      "source": [
        "<a href=\"https://colab.research.google.com/github/ThePhilipManoj/NEXFORCE/blob/main/NEXFORCE.ipynb\" target=\"_parent\"><img src=\"https://colab.research.google.com/assets/colab-badge.svg\" alt=\"Open In Colab\"/></a>"
      ]
    },
    {
      "cell_type": "code",
      "execution_count": null,
      "metadata": {
        "colab": {
          "base_uri": "https://localhost:8080/"
        },
        "id": "qsyrDLEmITl2",
        "outputId": "da4b9b82-d8e8-4527-cee2-be57fbcb5f05"
      },
      "outputs": [
        {
          "output_type": "stream",
          "name": "stdout",
          "text": [
            "Mean of height 67.99311359679999\n",
            "Mode of height 65.65796\n",
            "Median of height 67.9957\n",
            "Mean of height 127.07942116080001\n",
            "Mode of height 124.7975\n",
            "Median of height 127.15775\n"
          ]
        }
      ],
      "source": [
        "import pandas as pd\n",
        "data = pd.read_csv(\"SOCR-HeightWeight.csv\")\n",
        "\n",
        "meanH = data['Height(Inches)'].mean()\n",
        "modeH = data['Height(Inches)'].mode().iloc[0]\n",
        "medianH = data['Height(Inches)'].median()\n",
        "print(\"Mean of height\",meanH)\n",
        "print(\"Mode of height\",modeH)\n",
        "print(\"Median of height\",medianH)\n",
        "\n",
        "\n",
        "meanW = data['Weight(Pounds)'].mean()\n",
        "modeW = data['Weight(Pounds)'].mode().iloc[0]\n",
        "medianW = data['Weight(Pounds)'].median()\n",
        "print(\"Mean of weightt\",meanW)\n",
        "print(\"Mode of weight\",modeW)\n",
        "print(\"Median of weight\",medianW)\n",
        "\n",
        "\n",
        "\n",
        "\n"
      ]
    },
    {
      "cell_type": "code",
      "source": [],
      "metadata": {
        "id": "Pet6S2GUJPE1"
      },
      "execution_count": null,
      "outputs": []
    },
    {
      "cell_type": "code",
      "source": [],
      "metadata": {
        "id": "Bw3L_X8tJLTg"
      },
      "execution_count": null,
      "outputs": []
    }
  ]
}